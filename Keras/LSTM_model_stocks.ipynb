{
 "cells": [
  {
   "cell_type": "markdown",
   "metadata": {},
   "source": [
    "Credit : Thanks to Vytautas Bielinskas\n",
    "PART 1. Data Pre-processing"
   ]
  },
  {
   "cell_type": "markdown",
   "metadata": {},
   "source": [
    "<h3>Step #0. Fire the system</h3>"
   ]
  },
  {
   "cell_type": "code",
   "execution_count": null,
   "metadata": {},
   "outputs": [],
   "source": [
    "## Download data from: https://finance.yahoo.com/quote/GOOG/history/"
   ]
  },
  {
   "cell_type": "code",
   "execution_count": 1,
   "metadata": {
    "tags": []
   },
   "outputs": [
    {
     "name": "stderr",
     "output_type": "stream",
     "text": [
      "Using TensorFlow backend.\n"
     ]
    }
   ],
   "source": [
    "# Import modules and packages\n",
    "import numpy as np\n",
    "import pandas as pd\n",
    "import matplotlib.pyplot as plt\n",
    "import datetime as dt\n",
    "from datetime import datetime\n",
    "\n",
    "from keras.callbacks import EarlyStopping, ReduceLROnPlateau, ModelCheckpoint, TensorBoard\n",
    "\n",
    "%matplotlib inline"
   ]
  },
  {
   "cell_type": "markdown",
   "metadata": {},
   "source": [
    "<h3>Step #1. Read data</h3>"
   ]
  },
  {
   "cell_type": "code",
   "execution_count": 2,
   "metadata": {
    "tags": []
   },
   "outputs": [
    {
     "name": "stdout",
     "output_type": "stream",
     "text": [
      "['Open', 'High', 'Low', 'Close', 'Adj Close']\n",
      "Training set shape == (4006, 7)\n",
      "All timestamps == 4006\n",
      "Featured selected: ['Open', 'High', 'Low', 'Close', 'Adj Close']\n"
     ]
    }
   ],
   "source": [
    "# Importing Training Set\n",
    "dataset_train = pd.read_csv('GOOG.csv')\n",
    "\n",
    "# Select features (columns) to be involved intro training and predictions\n",
    "cols = list(dataset_train)[1:6]\n",
    "print(cols)\n",
    "# Extract dates (will be used in visualization)\n",
    "datelist_train = list(dataset_train['Date'])\n",
    "datelist_train = [dt.datetime.strptime(date, '%Y-%m-%d').date() for date in datelist_train]\n",
    "\n",
    "print('Training set shape == {}'.format(dataset_train.shape))\n",
    "print('All timestamps == {}'.format(len(datelist_train)))\n",
    "print('Featured selected: {}'.format(cols))\n",
    "\n",
    "# keep the date as index (x-axis) for visualisation graph\n",
    "#dataset_train =  dataset_train.set_index('Date')"
   ]
  },
  {
   "cell_type": "markdown",
   "metadata": {},
   "source": [
    "<h3>Step #2. Data pre-processing</h3>\n",
    "<p>\n",
    "Removing all commas and convert data to matrix shape format.\n",
    "</p>"
   ]
  },
  {
   "cell_type": "code",
   "execution_count": 3,
   "metadata": {
    "tags": []
   },
   "outputs": [
    {
     "name": "stdout",
     "output_type": "stream",
     "text": [
      "Shape of training set == (4006, 5).\n"
     ]
    }
   ],
   "source": [
    "dataset_train = dataset_train[cols].astype(str)\n",
    "for i in cols:\n",
    "    for j in range(0, len(dataset_train)):\n",
    "        dataset_train[i][j] = dataset_train[i][j].replace(',', '')\n",
    "\n",
    "dataset_train = dataset_train.astype(float)\n",
    "\n",
    "# Using multiple features (predictors)\n",
    "#training_set = dataset_train.as_matrix()\n",
    "training_set = dataset_train.to_numpy()\n",
    "\n",
    "print('Shape of training set == {}.'.format(training_set.shape))"
   ]
  },
  {
   "cell_type": "code",
   "execution_count": 4,
   "metadata": {
    "tags": []
   },
   "outputs": [
    {
     "data": {
      "text/plain": [
       "array([[-1.27195197],\n",
       "       [-1.27058974],\n",
       "       [-1.25745309],\n",
       "       ...,\n",
       "       [ 2.71716347],\n",
       "       [ 2.65453724],\n",
       "       [ 2.713075  ]])"
      ]
     },
     "execution_count": 4,
     "metadata": {},
     "output_type": "execute_result"
    }
   ],
   "source": [
    "# Feature Scaling\n",
    "from sklearn.preprocessing import StandardScaler\n",
    "\n",
    "sc = StandardScaler()\n",
    "training_set_scaled = sc.fit_transform(training_set)\n",
    "\n",
    "sc_predict = StandardScaler()\n",
    "sc_predict.fit_transform(training_set[:, 0:1])\n"
   ]
  },
  {
   "cell_type": "code",
   "execution_count": 5,
   "metadata": {
    "tags": []
   },
   "outputs": [
    {
     "name": "stdout",
     "output_type": "stream",
     "text": [
      "X_train shape == (3857, 90, 4).\n",
      "y_train shape == (3857, 1).\n"
     ]
    }
   ],
   "source": [
    "# Creating a data structure with 90 timestamps and 1 output\n",
    "X_train = []\n",
    "y_train = []\n",
    "\n",
    "n_future = 60   # Number of days we want top predict into the future\n",
    "n_past = 90     # Number of past days we want to use to predict the future\n",
    "\n",
    "for i in range(n_past, len(training_set_scaled) - n_future +1):\n",
    "    X_train.append(training_set_scaled[i - n_past:i, 0:dataset_train.shape[1] - 1])\n",
    "    y_train.append(training_set_scaled[i + n_future - 1:i + n_future, 0])\n",
    "\n",
    "X_train, y_train = np.array(X_train), np.array(y_train)\n",
    "\n",
    "print('X_train shape == {}.'.format(X_train.shape))\n",
    "print('y_train shape == {}.'.format(y_train.shape))\n"
   ]
  },
  {
   "cell_type": "markdown",
   "metadata": {},
   "source": [
    "<h2>PART 2. Create a model. Training</h2>"
   ]
  },
  {
   "cell_type": "markdown",
   "metadata": {},
   "source": [
    "<h3>Step #3. Building the LSTM based Neural Network</h3>"
   ]
  },
  {
   "cell_type": "code",
   "execution_count": 6,
   "metadata": {},
   "outputs": [],
   "source": [
    "# Import Libraries and packages from Keras\n",
    "\n",
    "import tensorflow as tf\n",
    "#physical_devices = tf.config.list_physical_devices('GPU')\n",
    "#tf.config.experimental.set_memory_growth(physical_devices[0], enable=True)\n",
    "from tensorflow.keras.models import Sequential\n",
    "from tensorflow.keras.layers import Dense\n",
    "from tensorflow.keras.layers import LSTM\n",
    "from tensorflow.keras.layers import Dropout\n",
    "from tensorflow.keras.optimizers import Adam\n"
   ]
  },
  {
   "cell_type": "code",
   "execution_count": 7,
   "metadata": {
    "tags": []
   },
   "outputs": [],
   "source": [
    "# Initializing the Neural Network based on LSTM\n",
    "model = Sequential()\n",
    "#model = tf.keras.Sequential()\n",
    "\n",
    "# Adding 1st LSTM layer\n",
    "model.add(LSTM(units=64, return_sequences=True, input_shape=(n_past, dataset_train.shape[1]-1)))\n",
    "\n",
    "# Adding 2nd LSTM layer\n",
    "model.add(LSTM(units=10, return_sequences=False))\n",
    "\n",
    "# Adding Dropout\n",
    "model.add(Dropout(0.25))\n",
    "\n",
    "# Output layer\n",
    "model.add(Dense(units=1, activation='linear'))\n",
    "\n",
    "# Compiling the Neural Network\n",
    "model.compile(optimizer = Adam(learning_rate=0.01), loss='mean_squared_error')\n"
   ]
  },
  {
   "cell_type": "markdown",
   "metadata": {},
   "source": [
    "<h3>Step #4. Start training</h3>"
   ]
  },
  {
   "cell_type": "code",
   "execution_count": 8,
   "metadata": {
    "tags": []
   },
   "outputs": [
    {
     "name": "stdout",
     "output_type": "stream",
     "text": [
      "Train on 3085 samples, validate on 772 samples\n",
      "Epoch 1/30\n",
      " 256/3085 [=>............................] - ETA: 1:14 - loss: 0.2345WARNING:tensorflow:Method (on_train_batch_end) is slow compared to the batch update (0.102314). Check your callbacks.\n",
      "2560/3085 [=======================>......] - ETA: 1s - loss: 0.1130\n",
      "Epoch 00001: val_loss improved from inf to 0.43089, saving model to weights.h5\n",
      "3085/3085 [==============================] - 8s 3ms/sample - loss: 0.1012 - val_loss: 0.4309\n",
      "Epoch 2/30\n",
      "2304/3085 [=====================>........] - ETA: 0s - loss: 0.0439\n",
      "Epoch 00002: val_loss improved from 0.43089 to 0.39075, saving model to weights.h5\n",
      "3085/3085 [==============================] - 0s 79us/sample - loss: 0.0418 - val_loss: 0.3907\n",
      "Epoch 3/30\n",
      "2560/3085 [=======================>......] - ETA: 0s - loss: 0.0354\n",
      "Epoch 00003: val_loss did not improve from 0.39075\n",
      "3085/3085 [==============================] - 0s 74us/sample - loss: 0.0347 - val_loss: 0.4098\n",
      "Epoch 4/30\n",
      "2304/3085 [=====================>........] - ETA: 0s - loss: 0.0326\n",
      "Epoch 00004: val_loss improved from 0.39075 to 0.24530, saving model to weights.h5\n",
      "3085/3085 [==============================] - 0s 84us/sample - loss: 0.0322 - val_loss: 0.2453\n",
      "Epoch 5/30\n",
      "2304/3085 [=====================>........] - ETA: 0s - loss: 0.0291\n",
      "Epoch 00005: val_loss improved from 0.24530 to 0.16785, saving model to weights.h5\n",
      "3085/3085 [==============================] - 0s 85us/sample - loss: 0.0286 - val_loss: 0.1679\n",
      "Epoch 6/30\n",
      "2304/3085 [=====================>........] - ETA: 0s - loss: 0.0295\n",
      "Epoch 00006: val_loss did not improve from 0.16785\n",
      "3085/3085 [==============================] - 0s 77us/sample - loss: 0.0291 - val_loss: 0.1716\n",
      "Epoch 7/30\n",
      "2304/3085 [=====================>........] - ETA: 0s - loss: 0.0285\n",
      "Epoch 00007: val_loss did not improve from 0.16785\n",
      "3085/3085 [==============================] - 0s 77us/sample - loss: 0.0280 - val_loss: 0.1892\n",
      "Epoch 8/30\n",
      "2560/3085 [=======================>......] - ETA: 0s - loss: 0.0287\n",
      "Epoch 00008: val_loss did not improve from 0.16785\n",
      "3085/3085 [==============================] - 0s 71us/sample - loss: 0.0290 - val_loss: 0.3146\n",
      "Epoch 9/30\n",
      "2304/3085 [=====================>........] - ETA: 0s - loss: 0.0277\n",
      "Epoch 00009: val_loss did not improve from 0.16785\n",
      "3085/3085 [==============================] - 0s 78us/sample - loss: 0.0282 - val_loss: 0.3060\n",
      "Epoch 10/30\n",
      "2304/3085 [=====================>........] - ETA: 0s - loss: 0.0282\n",
      "Epoch 00010: val_loss did not improve from 0.16785\n",
      "3085/3085 [==============================] - 0s 76us/sample - loss: 0.0278 - val_loss: 0.2083\n",
      "Epoch 11/30\n",
      "2304/3085 [=====================>........] - ETA: 0s - loss: 0.0274\n",
      "Epoch 00011: val_loss improved from 0.16785 to 0.14116, saving model to weights.h5\n",
      "3085/3085 [==============================] - 0s 85us/sample - loss: 0.0268 - val_loss: 0.1412\n",
      "Epoch 12/30\n",
      "2560/3085 [=======================>......] - ETA: 0s - loss: 0.0274\n",
      "Epoch 00012: val_loss did not improve from 0.14116\n",
      "3085/3085 [==============================] - 0s 74us/sample - loss: 0.0274 - val_loss: 0.2368\n",
      "Epoch 13/30\n",
      "2560/3085 [=======================>......] - ETA: 0s - loss: 0.0261\n",
      "Epoch 00013: val_loss did not improve from 0.14116\n",
      "3085/3085 [==============================] - 0s 73us/sample - loss: 0.0262 - val_loss: 0.2569\n",
      "Epoch 14/30\n",
      "2816/3085 [==========================>...] - ETA: 0s - loss: 0.0281\n",
      "Epoch 00014: val_loss did not improve from 0.14116\n",
      "3085/3085 [==============================] - 0s 72us/sample - loss: 0.0283 - val_loss: 0.2144\n",
      "Epoch 15/30\n",
      "2304/3085 [=====================>........] - ETA: 0s - loss: 0.0269\n",
      "Epoch 00015: val_loss did not improve from 0.14116\n",
      "3085/3085 [==============================] - 0s 75us/sample - loss: 0.0264 - val_loss: 0.2452\n",
      "Epoch 16/30\n",
      "2560/3085 [=======================>......] - ETA: 0s - loss: 0.0252\n",
      "Epoch 00016: val_loss did not improve from 0.14116\n",
      "3085/3085 [==============================] - 0s 74us/sample - loss: 0.0253 - val_loss: 0.1860\n",
      "Epoch 17/30\n",
      "2304/3085 [=====================>........] - ETA: 0s - loss: 0.0254\n",
      "Epoch 00017: val_loss improved from 0.14116 to 0.13625, saving model to weights.h5\n",
      "3085/3085 [==============================] - 0s 85us/sample - loss: 0.0250 - val_loss: 0.1362\n",
      "Epoch 18/30\n",
      "2816/3085 [==========================>...] - ETA: 0s - loss: 0.0259\n",
      "Epoch 00018: val_loss did not improve from 0.13625\n",
      "3085/3085 [==============================] - 0s 72us/sample - loss: 0.0258 - val_loss: 0.1481\n",
      "Epoch 19/30\n",
      "2560/3085 [=======================>......] - ETA: 0s - loss: 0.0261\n",
      "Epoch 00019: val_loss improved from 0.13625 to 0.10572, saving model to weights.h5\n",
      "3085/3085 [==============================] - 0s 76us/sample - loss: 0.0256 - val_loss: 0.1057\n",
      "Epoch 20/30\n",
      "2304/3085 [=====================>........] - ETA: 0s - loss: 0.0251\n",
      "Epoch 00020: val_loss did not improve from 0.10572\n",
      "3085/3085 [==============================] - 0s 75us/sample - loss: 0.0254 - val_loss: 0.1072\n",
      "Epoch 21/30\n",
      "2304/3085 [=====================>........] - ETA: 0s - loss: 0.0267\n",
      "Epoch 00021: val_loss did not improve from 0.10572\n",
      "3085/3085 [==============================] - 0s 74us/sample - loss: 0.0260 - val_loss: 0.1488\n",
      "Epoch 22/30\n",
      "2304/3085 [=====================>........] - ETA: 0s - loss: 0.0261\n",
      "Epoch 00022: val_loss did not improve from 0.10572\n",
      "3085/3085 [==============================] - 0s 74us/sample - loss: 0.0266 - val_loss: 0.1486\n",
      "Epoch 23/30\n",
      "2304/3085 [=====================>........] - ETA: 0s - loss: 0.0263\n",
      "Epoch 00023: val_loss did not improve from 0.10572\n",
      "3085/3085 [==============================] - 0s 76us/sample - loss: 0.0259 - val_loss: 0.1615\n",
      "Epoch 24/30\n",
      "2560/3085 [=======================>......] - ETA: 0s - loss: 0.0292\n",
      "Epoch 00024: val_loss did not improve from 0.10572\n",
      "3085/3085 [==============================] - 0s 73us/sample - loss: 0.0292 - val_loss: 0.2349\n",
      "Epoch 25/30\n",
      "2560/3085 [=======================>......] - ETA: 0s - loss: 0.0253\n",
      "Epoch 00025: val_loss did not improve from 0.10572\n",
      "3085/3085 [==============================] - 0s 71us/sample - loss: 0.0249 - val_loss: 0.2458\n",
      "Epoch 26/30\n",
      "2304/3085 [=====================>........] - ETA: 0s - loss: 0.0270\n",
      "Epoch 00026: val_loss did not improve from 0.10572\n",
      "3085/3085 [==============================] - 0s 75us/sample - loss: 0.0271 - val_loss: 0.3129\n",
      "Epoch 27/30\n",
      "2304/3085 [=====================>........] - ETA: 0s - loss: 0.0244\n",
      "Epoch 00027: val_loss did not improve from 0.10572\n",
      "3085/3085 [==============================] - 0s 76us/sample - loss: 0.0248 - val_loss: 0.1308\n",
      "Epoch 28/30\n",
      "2560/3085 [=======================>......] - ETA: 0s - loss: 0.0260\n",
      "Epoch 00028: val_loss did not improve from 0.10572\n",
      "3085/3085 [==============================] - 0s 74us/sample - loss: 0.0256 - val_loss: 0.1115\n",
      "Epoch 29/30\n",
      "2560/3085 [=======================>......] - ETA: 0s - loss: 0.0230\n",
      "Epoch 00029: val_loss improved from 0.10572 to 0.09645, saving model to weights.h5\n",
      "3085/3085 [==============================] - 0s 78us/sample - loss: 0.0235 - val_loss: 0.0964\n",
      "Epoch 30/30\n",
      "2560/3085 [=======================>......] - ETA: 0s - loss: 0.0235\n",
      "Epoch 00030: val_loss did not improve from 0.09645\n",
      "3085/3085 [==============================] - 0s 75us/sample - loss: 0.0245 - val_loss: 0.1628\n",
      "Wall time: 15.7 s\n"
     ]
    }
   ],
   "source": [
    "%%time\n",
    "es = EarlyStopping(monitor='val_loss', min_delta=1e-10, patience=10, verbose=1)\n",
    "rlr = ReduceLROnPlateau(monitor='val_loss', factor=0.5, patience=10, verbose=1)\n",
    "mcp = ModelCheckpoint(filepath='weights.h5', monitor='val_loss', verbose=1, save_best_only=True, save_weights_only=True)\n",
    "\n",
    "tb = TensorBoard('logs')\n",
    "\n",
    "history = model.fit(X_train, y_train, shuffle=True, epochs=30, callbacks=[es, rlr, mcp, tb], validation_split=0.2, verbose=1, batch_size=256)\n"
   ]
  },
  {
   "cell_type": "markdown",
   "metadata": {},
   "source": [
    "<p>\n",
    "Notes:<br>\n",
    "<ul>\n",
    "<li><b>EarlyStopping</b> - Stop training when a monitored metric has stopped improving.</li>\n",
    "<li><code>monitor</code> - quantity to be monitored.</li>\n",
    "<li><code>min_delta</code> - minimum change in the monitored quantity to qualify as an improvement, i.e. an absolute change of less than <code>min_delta</code>, will count as no improvement.</li>\n",
    "<li><code>patience</code> - number of epochs with no improvement after which training will be stopped.</li>\n",
    "</ul>\n",
    "\n",
    "<ul>\n",
    "<li><b>ReduceLROnPlateau</b> - Reduce learning rate when a metric has stopped improving.</li>\n",
    "<li><code>factor</code> - factor by which the learning rate will be reduced. <code>new_lr = lr * factor</code>.</li>\n",
    "</ul>\n",
    "</p>\n",
    "\n",
    "<hr>\n",
    "\n",
    "<p>\n",
    "The last date for our training set is <code>30-Dec-2016</code>.<br>\n",
    "</p>\n",
    "\n",
    "<p>\n",
    "We will perform predictions for the next <b>20</b> days, since <b>2017-01-01</b> to <b>2017-01-20</b>.\n",
    "</p>"
   ]
  },
  {
   "cell_type": "markdown",
   "metadata": {},
   "source": [
    "<h2>PART 3. Make future predictions</h2>"
   ]
  },
  {
   "cell_type": "code",
   "execution_count": 9,
   "metadata": {},
   "outputs": [],
   "source": [
    "# Generate list of sequence of days for predictions\n",
    "datelist_future = pd.date_range(datelist_train[-1], periods=n_future, freq='1d').tolist()\n",
    "\n",
    "'''\n",
    "Remeber, we have datelist_train from begining.\n",
    "'''\n",
    "\n",
    "# Convert Pandas Timestamp to Datetime object (for transformation) --> FUTURE\n",
    "datelist_future_ = []\n",
    "for this_timestamp in datelist_future:\n",
    "    datelist_future_.append(this_timestamp.date())\n",
    "  "
   ]
  },
  {
   "cell_type": "markdown",
   "metadata": {},
   "source": [
    "<h3>Step #5. Make predictions for future dates</h3>"
   ]
  },
  {
   "cell_type": "code",
   "execution_count": 10,
   "metadata": {
    "tags": []
   },
   "outputs": [],
   "source": [
    "# Perform predictions\n",
    "predictions_future = model.predict(X_train[-n_future:])\n",
    "\n",
    "predictions_train = model.predict(X_train[n_past:])\n"
   ]
  },
  {
   "cell_type": "code",
   "execution_count": 11,
   "metadata": {
    "tags": []
   },
   "outputs": [
    {
     "data": {
      "text/html": [
       "<div>\n",
       "<style scoped>\n",
       "    .dataframe tbody tr th:only-of-type {\n",
       "        vertical-align: middle;\n",
       "    }\n",
       "\n",
       "    .dataframe tbody tr th {\n",
       "        vertical-align: top;\n",
       "    }\n",
       "\n",
       "    .dataframe thead th {\n",
       "        text-align: right;\n",
       "    }\n",
       "</style>\n",
       "<table border=\"1\" class=\"dataframe\">\n",
       "  <thead>\n",
       "    <tr style=\"text-align: right;\">\n",
       "      <th></th>\n",
       "      <th>Open</th>\n",
       "    </tr>\n",
       "  </thead>\n",
       "  <tbody>\n",
       "    <tr>\n",
       "      <th>2005-08-01</th>\n",
       "      <td>177.129135</td>\n",
       "    </tr>\n",
       "    <tr>\n",
       "      <th>2005-08-02</th>\n",
       "      <td>177.579025</td>\n",
       "    </tr>\n",
       "    <tr>\n",
       "      <th>2005-08-03</th>\n",
       "      <td>177.861465</td>\n",
       "    </tr>\n",
       "  </tbody>\n",
       "</table>\n",
       "</div>"
      ],
      "text/plain": [
       "                  Open\n",
       "2005-08-01  177.129135\n",
       "2005-08-02  177.579025\n",
       "2005-08-03  177.861465"
      ]
     },
     "execution_count": 11,
     "metadata": {},
     "output_type": "execute_result"
    }
   ],
   "source": [
    "# Inverse the predictions to original measurements\n",
    "\n",
    "# ---> Special function: convert <datetime.date> to <Timestamp>\n",
    "def datetime_to_timestamp(x):\n",
    "    '''\n",
    "        x : a given datetime value (datetime.date)\n",
    "    '''\n",
    "    return datetime.strptime(x.strftime('%Y%m%d'), '%Y%m%d')\n",
    "\n",
    "\n",
    "y_pred_future = sc_predict.inverse_transform(predictions_future)\n",
    "y_pred_train = sc_predict.inverse_transform(predictions_train)\n",
    "\n",
    "PREDICTIONS_FUTURE = pd.DataFrame(y_pred_future, columns=['Open']).set_index(pd.Series(datelist_future))\n",
    "PREDICTION_TRAIN = pd.DataFrame(y_pred_train, columns=['Open']).set_index(pd.Series(datelist_train[2 * n_past + n_future -1:]))\n",
    "\n",
    "# Convert <datetime.date> to <Timestamp> for PREDCITION_TRAIN\n",
    "PREDICTION_TRAIN.index = PREDICTION_TRAIN.index.to_series().apply(datetime_to_timestamp)\n",
    "\n",
    "PREDICTION_TRAIN.head(3)"
   ]
  },
  {
   "cell_type": "markdown",
   "metadata": {},
   "source": [
    "<h3>Step #6. Visualize the Predictions</h3>"
   ]
  },
  {
   "cell_type": "code",
   "execution_count": 12,
   "metadata": {
    "tags": []
   },
   "outputs": [],
   "source": [
    "# Parse training set timestamp for better visualization\n",
    "dataset_train = pd.DataFrame(dataset_train, columns=cols)\n",
    "dataset_train.index = datelist_train\n",
    "dataset_train.index = pd.to_datetime(dataset_train.index)"
   ]
  },
  {
   "cell_type": "code",
   "execution_count": 13,
   "metadata": {},
   "outputs": [
    {
     "data": {
      "image/png": "[encoded data removed]",
      "text/plain": [
       "<Figure size 1008x360 with 1 Axes>"
      ]
     },
     "metadata": {
      "needs_background": "light"
     },
     "output_type": "display_data"
    }
   ],
   "source": [
    "# Set plot size \n",
    "from pylab import rcParams\n",
    "rcParams['figure.figsize'] = 14, 5\n",
    "\n",
    "# Plot parameters\n",
    "START_DATE_FOR_PLOTTING = '2012-06-01'\n",
    "plt.close()\n",
    "plt.plot(PREDICTIONS_FUTURE.index, PREDICTIONS_FUTURE['Open'], color='r', label='Predicted Stock Price')\n",
    "plt.plot(PREDICTION_TRAIN.loc[START_DATE_FOR_PLOTTING:].index, PREDICTION_TRAIN.loc[START_DATE_FOR_PLOTTING:]['Open'], color='orange', label='Training predictions')\n",
    "plt.plot(dataset_train.loc[START_DATE_FOR_PLOTTING:].index, dataset_train.loc[START_DATE_FOR_PLOTTING:]['Open'], color='b', label='Actual Stock Price')\n",
    "\n",
    "plt.axvline(x = min(PREDICTIONS_FUTURE.index), color='green', linewidth=2, linestyle='--')\n",
    "\n",
    "plt.grid(which='major', color='#cccccc', alpha=0.5)\n",
    "\n",
    "plt.legend(shadow=True)\n",
    "plt.title('Predictions and Actual Stock Prices', family='Arial', fontsize=12)\n",
    "plt.xlabel('Timeline', family='Arial', fontsize=10)\n",
    "plt.ylabel('Stock Price Value', family='Arial', fontsize=10)\n",
    "plt.xticks(rotation=45, fontsize=8)\n",
    "plt.show()"
   ]
  },
  {
   "cell_type": "code",
   "execution_count": 15,
   "metadata": {},
   "outputs": [
    {
     "data": {
      "text/plain": [
       "['/job:localhost/replica:0/task:0/device:GPU:0']"
      ]
     },
     "execution_count": 15,
     "metadata": {},
     "output_type": "execute_result"
    }
   ],
   "source": [
    "# Check Keras is running with GPU for better performance\n",
    "from keras import backend as K\n",
    "K.tensorflow_backend._get_available_gpus()"
   ]
  },
  {
   "cell_type": "code",
   "execution_count": null,
   "metadata": {},
   "outputs": [],
   "source": []
  }
 ],
 "metadata": {
  "kernelspec": {
   "display_name": "Python 3",
   "language": "python",
   "name": "python3"
  },
  "language_info": {
   "codemirror_mode": {
    "name": "ipython",
    "version": 3
   },
   "file_extension": ".py",
   "mimetype": "text/x-python",
   "name": "python",
   "nbconvert_exporter": "python",
   "pygments_lexer": "ipython3",
   "version": "3.6.12"
  }
 },
 "nbformat": 4,
 "nbformat_minor": 2
}
